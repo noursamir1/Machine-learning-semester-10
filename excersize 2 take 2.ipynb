{
  "nbformat": 4,
  "nbformat_minor": 0,
  "metadata": {
    "kernelspec": {
      "display_name": "Python 3",
      "language": "python",
      "name": "python3"
    },
    "language_info": {
      "codemirror_mode": {
        "name": "ipython",
        "version": 3
      },
      "file_extension": ".py",
      "mimetype": "text/x-python",
      "name": "python",
      "nbconvert_exporter": "python",
      "pygments_lexer": "ipython3",
      "version": "3.6.7"
    },
    "colab": {
      "name": "ass2EX2 final.ipynb",
      "provenance": [],
      "toc_visible": true
    }
  },
  "cells": [
    {
      "cell_type": "markdown",
      "metadata": {
        "id": "cj8A0ngvpEeH"
      },
      "source": [
        "# Programming Exercise 2: Logistic Regression\n",
        "\n",
        "## Introduction\n",
        "\n",
        "In this exercise, you will implement logistic regression and apply it to two different datasets. "
      ]
    },
    {
      "cell_type": "code",
      "metadata": {
        "id": "ghEmCi9qpEeV"
      },
      "source": [
        "# used for manipulating directory paths\n",
        "import os\n",
        "\n",
        "# Scientific and vector computation for python\n",
        "import numpy as np\n",
        "\n",
        "# Plotting library\n",
        "from matplotlib import pyplot\n",
        "\n",
        "# Optimization module in scipy\n",
        "from scipy import optimize\n",
        "import pandas as pd\n",
        "from sklearn.model_selection import train_test_split\n",
        "# library written for this exercise providing additional functions for assignment submission, and others\n",
        "#!pip install matplotlib-venn\n",
        "#import utils\n",
        "#grader = utils.Grader()\n",
        "#from python_utils import *\n",
        "\n",
        "\n",
        "# tells matplotlib to embed plots within the notebook\n",
        "%matplotlib inline"
      ],
      "execution_count": 76,
      "outputs": []
    },
    {
      "cell_type": "code",
      "metadata": {
        "id": "ZZ_HTYOb8S0T"
      },
      "source": [
        "def mapFeature(X1, X2, degree=6):\n",
        "    \"\"\"\n",
        "    Maps the two input features to quadratic features used in the regularization exercise.\n",
        "\n",
        "    Returns a new feature array with more features, comprising of\n",
        "    X1, X2, X1.^2, X2.^2, X1*X2, X1*X2.^2, etc..\n",
        "\n",
        "    Parameters\n",
        "    ----------\n",
        "    X1 : array_like\n",
        "        A vector of shape (m, 1), containing one feature for all examples.\n",
        "\n",
        "    X2 : array_like\n",
        "        A vector of shape (m, 1), containing a second feature for all examples.\n",
        "        Inputs X1, X2 must be the same size.\n",
        "\n",
        "    degree: int, optional\n",
        "        The polynomial degree.\n",
        "\n",
        "    Returns\n",
        "    -------\n",
        "    : array_like\n",
        "        A matrix of of m rows, and columns depend on the degree of polynomial.\n",
        "    \"\"\"\n",
        "    if X1.ndim > 0:\n",
        "        out = [np.ones(X1.shape[0])]\n",
        "    else:\n",
        "        out = [np.ones(1)]\n",
        "\n",
        "    for i in range(1, degree + 1):\n",
        "        for j in range(i + 1):\n",
        "            out.append((X1 ** (i - j)) * (X2 ** j))\n",
        "\n",
        "    if X1.ndim > 0:\n",
        "        return np.stack(out, axis=1)\n",
        "    else:\n",
        "        return np.array(out)"
      ],
      "execution_count": 77,
      "outputs": []
    },
    {
      "cell_type": "code",
      "metadata": {
        "id": "57dDmRzL8T8y"
      },
      "source": [
        "def plotDecisionBoundary(plotData, theta, X, y):\n",
        "    \"\"\"\n",
        "    Plots the data points X and y into a new figure with the decision boundary defined by theta.\n",
        "    Plots the data points with * for the positive examples and o for  the negative examples.\n",
        "\n",
        "    Parameters\n",
        "    ----------\n",
        "    plotData : func\n",
        "        A function reference for plotting the X, y data.\n",
        "\n",
        "    theta : array_like\n",
        "        Parameters for logistic regression. A vector of shape (n+1, ).\n",
        "\n",
        "    X : array_like\n",
        "        The input dataset. X is assumed to be  a either:\n",
        "            1) Mx3 matrix, where the first column is an all ones column for the intercept.\n",
        "            2) MxN, N>3 matrix, where the first column is all ones.\n",
        "\n",
        "    y : array_like\n",
        "        Vector of data labels of shape (m, ).\n",
        "    \"\"\"\n",
        "    \n",
        "    # make sure theta is a numpy array\n",
        "    theta = np.array(theta)\n",
        "    X = np.array(X)\n",
        "    y = np.array(y)\n",
        "\n",
        "    # Plot Data (remember first column in X is the intercept)\n",
        "    plotData(X[:, 1:3], y)\n",
        "\n",
        "    if X.shape[1] <= 3:\n",
        "        # Only need 2 points to define a line, so choose two endpoints\n",
        "        plot_x = np.array([np.min(X[:, 1]) - 2, np.max(X[:, 1]) + 2])\n",
        "\n",
        "        # Calculate the decision boundary line\n",
        "        plot_y = (-1. / theta[2]) * (theta[1] * plot_x + theta[0])\n",
        "\n",
        "        # Plot, and adjust axes for better viewing\n",
        "        pyplot.plot(plot_x, plot_y)\n",
        "\n",
        "        # Legend, specific for the exercise\n",
        "        pyplot.legend(['Admitted', 'Not admitted', 'Decision Boundary'])\n",
        "        pyplot.xlim([30, 100])\n",
        "        pyplot.ylim([30, 100])\n",
        "    else:\n",
        "        # Here is the grid range\n",
        "        u = np.linspace(-1, 1.5, 50)\n",
        "        v = np.linspace(-1, 1.5, 50)\n",
        "\n",
        "        z = np.zeros((u.size, v.size))\n",
        "        # Evaluate z = theta*x over the grid\n",
        "        for i, ui in enumerate(u):\n",
        "            for j, vj in enumerate(v):\n",
        "                z[i, j] = np.dot(mapFeature(ui, vj), theta)\n",
        "\n",
        "        z = z.T  # important to transpose z before calling contour\n",
        "        # print(z)\n",
        "\n",
        "        # Plot z = 0\n",
        "        pyplot.contour(u, v, z, levels=[0], linewidths=2, colors='g')\n",
        "        pyplot.contourf(u, v, z, levels=[np.min(z), 0, np.max(z)], cmap='Greens', alpha=0.4)\n",
        "\n",
        "\n",
        "\n",
        "    def __iter__(self):\n",
        "        for part_id in range(1, 7):\n",
        "            try:\n",
        "                func = self.functions[part_id]\n",
        "\n",
        "                # Each part has different expected arguments/different function\n",
        "                if part_id == 1:\n",
        "                    res = func(self.X)\n",
        "                elif part_id == 2:\n",
        "                    res = func(np.array([0.25, 0.5, -0.5]), self.X, self.y)\n",
        "                elif part_id == 3:\n",
        "                    J, grad = func(np.array([0.25, 0.5, -0.5]), self.X, self.y)\n",
        "                    res = grad\n",
        "                elif part_id == 4:\n",
        "                    res = func(np.array([0.25, 0.5, -0.5]), self.X)\n",
        "                elif part_id == 5:\n",
        "                    res = func(np.array([0.25, 0.5, -0.5]), self.X, self.y, 0.1)\n",
        "                elif part_id == 6:\n",
        "                    res = func(np.array([0.25, 0.5, -0.5]), self.X, self.y, 0.1)[1]\n",
        "                else:\n",
        "                    raise KeyError\n",
        "                yield part_id, res\n",
        "            except KeyError:\n",
        "                yield part_id, 0\n",
        "\n"
      ],
      "execution_count": 78,
      "outputs": []
    },
    {
      "cell_type": "markdown",
      "metadata": {
        "id": "vkz88PWGpEeW"
      },
      "source": [
        "## 1 Logistic Regression\n",
        "\n",
        "In this part of the exercise, you will build a logistic regression model to predict whether a student gets admitted into a university. Suppose that you are the administrator of a university department and\n",
        "you want to determine each applicant’s chance of admission based on their results on two exams. You have historical data from previous applicants that you can use as a training set for logistic regression. For each training example, you have the applicant’s scores on two exams and the admissions\n",
        "decision. Your task is to build a classification model that estimates an applicant’s probability of admission based the scores from those two exams. \n",
        "\n",
        "The following cell will load the data and corresponding labels:"
      ]
    },
    {
      "cell_type": "code",
      "metadata": {
        "id": "dOeuesvhpEeX"
      },
      "source": [
        "# Load data\n",
        "# The first two columns contains the exam scores and the third column\n",
        "# contains the label.\n",
        "data = np.loadtxt(os.path.join('Data', 'ex2data1.txt'), delimiter=',')\n",
        "data= pd.DataFrame(data)\n",
        "\n",
        "#train, validate, test = \\\n",
        " #             np.split(data.sample(frac=1, random_state=4), \n",
        "  #                     [int(.6*len(data)), int(.8*len(data))])\n",
        "train,test=train_test_split(data,test_size=0.3)\n",
        "\n",
        "Xt, yt = train.iloc[:, 0:2], train.iloc[:, 2]\n",
        "#Xcv, ycv = validate.iloc[:, 0:2], validate.iloc[:, 2]\n",
        "Xtest, ytest = test.iloc[:, 0:2], test.iloc[:, 2]\n",
        "\n",
        "\n",
        "\n"
      ],
      "execution_count": 79,
      "outputs": []
    },
    {
      "cell_type": "code",
      "metadata": {
        "id": "dCNYq8udpEeY"
      },
      "source": [
        "def plotData(X, y):\n",
        "   \n",
        "    \"\"\"\n",
        "    Plots the data points X and y into a new figure. Plots the data \n",
        "    points with * for the positive examples and o for the negative examples.\n",
        "    \n",
        "    Parameters\n",
        "    ----------\n",
        "    X : array_like\n",
        "        An Mx2 matrix representing the dataset. \n",
        "    \n",
        "    y : array_like\n",
        "        Label values for the dataset. A vector of size (M, ).\n",
        "    \n",
        "    Instructions\n",
        "    ------------\n",
        "    Plot the positive and negative examples on a 2D plot, using the\n",
        "    option 'k*' for the positive examples and 'ko' for the negative examples.    \n",
        "    \"\"\"\n",
        "    X = np.array(X)\n",
        "    y = np.array(y)\n",
        "    # Create New Figure\n",
        "    fig = pyplot.figure()\n",
        "\n",
        "    # ====================== YOUR CODE HERE ======================\n",
        "    # Find Indices of Positive and Negative Examples\n",
        "    pos = y == 1\n",
        "    neg = y == 0\n",
        "    # Plot Examples\n",
        "    pyplot.plot(X[pos, 0], X[pos, 1], 'k*', lw=2, ms=10)\n",
        "    pyplot.plot(X[neg, 0], X[neg, 1], 'ko', mfc='y', ms=8, mec='k', mew=1)   \n",
        "    \n",
        "    # ============================================================"
      ],
      "execution_count": 80,
      "outputs": []
    },
    {
      "cell_type": "markdown",
      "metadata": {
        "id": "Y-xXuEc5pEeY"
      },
      "source": [
        "Now, we call the implemented function to display the loaded data:"
      ]
    },
    {
      "cell_type": "code",
      "metadata": {
        "id": "DApk2W2apEeZ",
        "colab": {
          "base_uri": "https://localhost:8080/",
          "height": 280
        },
        "outputId": "65b025c3-b075-45c7-d435-b7fac127884a"
      },
      "source": [
        "\n",
        "plotData(Xt,yt)\n",
        "# add axes labels\n",
        "pyplot.xlabel('Exam 1 score')\n",
        "pyplot.ylabel('Exam 2 score')\n",
        "pyplot.legend(['Admitted', 'Not admitted'])\n",
        "pass"
      ],
      "execution_count": 81,
      "outputs": [
        {
          "output_type": "display_data",
          "data": {
            "image/png": "[encoded data removed]",
            "text/plain": [
              "<Figure size 432x288 with 1 Axes>"
            ]
          },
          "metadata": {
            "tags": [],
            "needs_background": "light"
          }
        }
      ]
    },
    {
      "cell_type": "code",
      "metadata": {
        "id": "nTctBebHpEea"
      },
      "source": [
        "def sigmoid(z):\n",
        "    \"\"\"\n",
        "    Compute sigmoid function given the input z.\n",
        "    \n",
        "    Parameters\n",
        "    ----------\n",
        "    z : array_like\n",
        "        The input to the sigmoid function. This can be a 1-D vector \n",
        "        or a 2-D matrix. \n",
        "    \n",
        "    Returns\n",
        "    -------\n",
        "    g : array_like\n",
        "        The computed sigmoid function. g has the same shape as z, since\n",
        "        the sigmoid is computed element-wise on z.\n",
        "        \n",
        "    Instructions\n",
        "    ------------\n",
        "    Compute the sigmoid of each value of z (z can be a matrix, vector or scalar).\n",
        "    \"\"\"\n",
        "    # convert input to a numpy array\n",
        "    z = np.array(z)\n",
        "    \n",
        "    # You need to return the following variables correctly \n",
        "    g = np.zeros(z.shape)\n",
        "\n",
        "    # ====================== YOUR CODE HERE ======================\n",
        "    g = 1 / (1 + np.exp(-z))\n",
        "\n",
        "    # =============================================================\n",
        "    return g"
      ],
      "execution_count": 82,
      "outputs": []
    },
    {
      "cell_type": "markdown",
      "metadata": {
        "id": "ce1YFw5HpEec"
      },
      "source": [
        "The following cell evaluates the sigmoid function at `z=0`. You should get a value of 0.5. You can also try different values for `z` to experiment with the sigmoid function."
      ]
    },
    {
      "cell_type": "code",
      "metadata": {
        "id": "RvYO8-B4pEee",
        "colab": {
          "base_uri": "https://localhost:8080/"
        },
        "outputId": "43d758b4-30f9-4524-e0bc-502017f0985e"
      },
      "source": [
        "# Test the implementation of sigmoid function here\n",
        "z = 0\n",
        "g = sigmoid(z)\n",
        "\n",
        "print('g(', z, ') = ', g)"
      ],
      "execution_count": 83,
      "outputs": [
        {
          "output_type": "stream",
          "text": [
            "g( 0 ) =  0.5\n"
          ],
          "name": "stdout"
        }
      ]
    },
    {
      "cell_type": "markdown",
      "metadata": {
        "id": "gqSnRf58pEef"
      },
      "source": [
        "After completing a part of the exercise, you can submit your solutions for grading by first adding the function you modified to the submission object, and then sending your function to Coursera for grading. \n",
        "\n",
        "The submission script will prompt you for your login e-mail and submission token. You can obtain a submission token from the web page for the assignment. You are allowed to submit your solutions multiple times, and we will take only the highest score into consideration.\n",
        "\n",
        "\n",
        "\n"
      ]
    },
    {
      "cell_type": "markdown",
      "metadata": {
        "id": "fMkF565wpEef"
      },
      "source": [
        "<a id=\"section2\"></a>\n",
        "#### 1.2.2 Cost function and gradient\n",
        "\n",
        "Now you will implement the cost function and gradient for logistic regression. Before proceeding we add the intercept term to X. "
      ]
    },
    {
      "cell_type": "code",
      "metadata": {
        "id": "YYKK3qrCpEef",
        "colab": {
          "base_uri": "https://localhost:8080/"
        },
        "outputId": "7a928bd1-c643-4adb-a8f9-c11632ebaf3d"
      },
      "source": [
        "# Setup the data matrix appropriately, and add ones for the intercept term\n",
        "mt, nt = Xt.shape\n",
        "mtest, ntest = Xtest.shape\n",
        "\n",
        "\n",
        "# Add intercept term to X\n",
        "Xt = np.concatenate([np.ones((mt, 1)), Xt], axis=1)\n",
        "#Xcv = np.concatenate([np.ones((mt, 1)), Xcv], axis=1)\n",
        "Xtest = np.concatenate([np.ones((mtest, 1)), Xtest], axis=1)\n",
        "print(Xt.shape)"
      ],
      "execution_count": 84,
      "outputs": [
        {
          "output_type": "stream",
          "text": [
            "(70, 3)\n"
          ],
          "name": "stdout"
        }
      ]
    },
    {
      "cell_type": "markdown",
      "metadata": {
        "id": "l978gjA5pEeg"
      },
      "source": [
        "Now, complete the code for the function `costFunction` to return the cost and gradient. Recall that the cost function in logistic regression is\n",
        "\n",
        "$$ J(\\theta) = \\frac{1}{m} \\sum_{i=1}^{m} \\left[ -y^{(i)} \\log\\left(h_\\theta\\left( x^{(i)} \\right) \\right) - \\left( 1 - y^{(i)}\\right) \\log \\left( 1 - h_\\theta\\left( x^{(i)} \\right) \\right) \\right]$$\n",
        "\n",
        "and the gradient of the cost is a vector of the same length as $\\theta$ where the $j^{th}$\n",
        "element (for $j = 0, 1, \\cdots , n$) is defined as follows:\n",
        "\n",
        "$$ \\frac{\\partial J(\\theta)}{\\partial \\theta_j} = \\frac{1}{m} \\sum_{i=1}^m \\left( h_\\theta \\left( x^{(i)} \\right) - y^{(i)} \\right) x_j^{(i)} $$\n",
        "\n",
        "Note that while this gradient looks identical to the linear regression gradient, the formula is actually different because linear and logistic regression have different definitions of $h_\\theta(x)$.\n",
        "<a id=\"costFunction\"></a>"
      ]
    },
    {
      "cell_type": "code",
      "metadata": {
        "id": "Jmel-CpcpEeg"
      },
      "source": [
        "def costFunction(theta, X, y):\n",
        "    \"\"\"\n",
        "    Compute cost and gradient for logistic regression. \n",
        "    \n",
        "    Parameters\n",
        "    ----------\n",
        "    theta : array_like\n",
        "        The parameters for logistic regression. This a vector\n",
        "        of shape (n+1, ).\n",
        "    \n",
        "    X : array_like\n",
        "        The input dataset of shape (m x n+1) where m is the total number\n",
        "        of data points and n is the number of features. We assume the \n",
        "        intercept has already been added to the input.\n",
        "    \n",
        "    y : arra_like\n",
        "        Labels for the input. This is a vector of shape (m, ).\n",
        "    \n",
        "    Returns\n",
        "    -------\n",
        "    J : float\n",
        "        The computed value for the cost function. \n",
        "    \n",
        "    grad : array_like\n",
        "        A vector of shape (n+1, ) which is the gradient of the cost\n",
        "        function with respect to theta, at the current values of theta.\n",
        "        \n",
        "    Instructions\n",
        "    ------------\n",
        "    Compute the cost of a particular choice of theta. You should set J to \n",
        "    the cost. Compute the partial derivatives and set grad to the partial\n",
        "    derivatives of the cost w.r.t. each parameter in theta.\n",
        "    \"\"\"\n",
        "    # Initialize some useful values\n",
        "    m = y.size  # number of training examples\n",
        "\n",
        "    # You need to return the following variables correctly \n",
        "    J = 0\n",
        "    grad = np.zeros(theta.shape)\n",
        "\n",
        "    # ====================== YOUR CODE HERE ======================\n",
        "    h = sigmoid(X.dot(theta.T))\n",
        "    \n",
        "    J = (1 / m) * np.sum(-y.dot(np.log(h)) - (1 - y).dot(np.log(1 - h)))\n",
        "    grad = (1 / m) * (h - y).dot(X)\n",
        "    \n",
        "    # =============================================================\n",
        "    return J, grad"
      ],
      "execution_count": 85,
      "outputs": []
    },
    {
      "cell_type": "code",
      "metadata": {
        "id": "EsHz26hepEei",
        "colab": {
          "base_uri": "https://localhost:8080/"
        },
        "outputId": "8b55ea1a-1cc7-47a8-b562-7cce634cf687"
      },
      "source": [
        "initial_theta = np.zeros(nt+1)\n",
        "# set options for optimize.minimize\n",
        "options= {'maxiter': 400}\n",
        "\n",
        "# see documention for scipy's optimize.minimize  for description about\n",
        "# the different parameters\n",
        "# The function returns an object `OptimizeResult`\n",
        "# We use truncated Newton algorithm for optimization which is \n",
        "# equivalent to MATLAB's fminunc\n",
        "# See https://stackoverflow.com/questions/18801002/fminunc-alternate-in-numpy\n",
        "res = optimize.minimize(costFunction,\n",
        "                        initial_theta,\n",
        "                        (Xt, yt),\n",
        "                        jac=True,\n",
        "                        method='TNC',\n",
        "                        options=options)\n",
        "\n",
        "# the fun property of `OptimizeResult` object returns\n",
        "# the value of costFunction at optimized theta\n",
        "cost = res.fun\n",
        "\n",
        "# the optimized theta is in the x property\n",
        "theta = res.x\n",
        "\n",
        "# Print theta to screen\n",
        "print('Cost at theta found by optimize.minimize: {:.3f}'.format(cost))\n",
        "print('Expected cost (approx): 0.203\\n');\n",
        "\n",
        "print('theta:')\n",
        "print('\\t[{:.3f}, {:.3f}, {:.3f}]'.format(*theta))\n",
        "print('Expected theta (approx):\\n\\t[-25.161, 0.206, 0.201]')"
      ],
      "execution_count": 86,
      "outputs": [
        {
          "output_type": "stream",
          "text": [
            "Cost at theta found by optimize.minimize: 0.181\n",
            "Expected cost (approx): 0.203\n",
            "\n",
            "theta:\n",
            "\t[-28.917, 0.237, 0.240]\n",
            "Expected theta (approx):\n",
            "\t[-25.161, 0.206, 0.201]\n"
          ],
          "name": "stdout"
        }
      ]
    },
    {
      "cell_type": "markdown",
      "metadata": {
        "id": "gtOS7vxRpEei"
      },
      "source": [
        "Once `optimize.minimize` completes, we want to use the final value for $\\theta$ to visualize the decision boundary on the training data as shown in the figure below. \n",
        "\n",
        "![](Figures/decision_boundary1.png)\n",
        "\n",
        "To do so, we have written a function plotDecisionBoundary for plotting the decision boundary on top of training data. You do not need to write any code for plotting the decision boundary, but we also encourage you to look at the code in plotDecisionBoundary to see how to plot such a boundary using the  𝜃  values. You can find this function in the utils.py file which comes with this assignment.\n"
      ]
    },
    {
      "cell_type": "code",
      "metadata": {
        "id": "WluOAawOpEej",
        "colab": {
          "base_uri": "https://localhost:8080/",
          "height": 269
        },
        "outputId": "54c2cd5a-5c11-439b-b97c-cd155f7d4578"
      },
      "source": [
        "# Plot Boundary\n",
        "plotDecisionBoundary(plotData, theta, Xt, yt)"
      ],
      "execution_count": 87,
      "outputs": [
        {
          "output_type": "display_data",
          "data": {
            "image/png": "[encoded data removed]",
            "text/plain": [
              "<Figure size 432x288 with 1 Axes>"
            ]
          },
          "metadata": {
            "tags": [],
            "needs_background": "light"
          }
        }
      ]
    },
    {
      "cell_type": "markdown",
      "metadata": {
        "id": "H9fns_l9pEej"
      },
      "source": [
        "<a id=\"section4\"></a>\n",
        "#### 1.2.4 Evaluating logistic regression\n",
        "\n",
        "After learning the parameters, you can use the model to predict whether a particular student will be admitted. For a student with an Exam 1 score of 45 and an Exam 2 score of 85, you should expect to see an admission\n",
        "probability of 0.776. Another way to evaluate the quality of the parameters we have found is to see how well the learned model predicts on our training set. In this part, your task is to complete the code in function `predict`. The predict function will produce “1” or “0” predictions given a dataset and a learned parameter vector $\\theta$. \n",
        "<a id=\"predict\"></a>"
      ]
    },
    {
      "cell_type": "code",
      "metadata": {
        "id": "4DQhhZgFpEek"
      },
      "source": [
        "def predict(theta, X):\n",
        "    \"\"\"\n",
        "    Predict whether the label is 0 or 1 using learned logistic regression.\n",
        "    Computes the predictions for X using a threshold at 0.5 \n",
        "    (i.e., if sigmoid(theta.T*x) >= 0.5, predict 1)\n",
        "    \n",
        "    Parameters\n",
        "    ----------\n",
        "    theta : array_like\n",
        "        Parameters for logistic regression. A vecotor of shape (n+1, ).\n",
        "    \n",
        "    X : array_like\n",
        "        The data to use for computing predictions. The rows is the number \n",
        "        of points to compute predictions, and columns is the number of\n",
        "        features.\n",
        "\n",
        "    Returns\n",
        "    -------\n",
        "    p : array_like\n",
        "        Predictions and 0 or 1 for each row in X. \n",
        "    \n",
        "    Instructions\n",
        "    ------------\n",
        "    Complete the following code to make predictions using your learned \n",
        "    logistic regression parameters.You should set p to a vector of 0's and 1's    \n",
        "    \"\"\"\n",
        "    m = X.shape[0] # Number of training examples\n",
        "\n",
        "    # You need to return the following variables correctly\n",
        "    p = np.zeros(m)\n",
        "\n",
        "    # ====================== YOUR CODE HERE ======================\n",
        "    \n",
        "    p = np.round(sigmoid(X.dot(theta.T)))\n",
        "    \n",
        "    # ============================================================\n",
        "    return p"
      ],
      "execution_count": 88,
      "outputs": []
    },
    {
      "cell_type": "markdown",
      "metadata": {
        "id": "-Io1ePNupEek"
      },
      "source": [
        "After you have completed the code in `predict`, we proceed to report the training accuracy of your classifier by computing the percentage of examples it got correct."
      ]
    },
    {
      "cell_type": "code",
      "metadata": {
        "id": "qzp-Oi7wpEek",
        "colab": {
          "base_uri": "https://localhost:8080/"
        },
        "outputId": "271fc689-466a-4efc-9b1a-2ca87e5512f6"
      },
      "source": [
        "\n",
        "\n",
        "# Compute accuracy on our training set\n",
        "p = predict(theta, Xtest)\n",
        "print('Train Accuracy: {:.2f} %'.format(np.mean(p == ytest) * 100))\n",
        "print('Expected accuracy (approx): 89.00 %')"
      ],
      "execution_count": 89,
      "outputs": [
        {
          "output_type": "stream",
          "text": [
            "Train Accuracy: 86.67 %\n",
            "Expected accuracy (approx): 89.00 %\n"
          ],
          "name": "stdout"
        }
      ]
    },
    {
      "cell_type": "markdown",
      "metadata": {
        "id": "VOokeF5YpEel"
      },
      "source": [
        "## 2 Regularized logistic regression\n",
        "\n",
        "In this part of the exercise, you will implement regularized logistic regression to predict whether microchips from a fabrication plant passes quality assurance (QA). During QA, each microchip goes through various tests to ensure it is functioning correctly.\n",
        "Suppose you are the product manager of the factory and you have the test results for some microchips on two different tests. From these two tests, you would like to determine whether the microchips should be accepted or rejected. To help you make the decision, you have a dataset of test results on past microchips, from which you can build a logistic regression model.\n",
        "\n",
        "First, we load the data from a CSV file:"
      ]
    },
    {
      "cell_type": "code",
      "metadata": {
        "id": "-5ljwCfGpEel",
        "colab": {
          "base_uri": "https://localhost:8080/"
        },
        "outputId": "a9539b3d-952f-4f60-ab44-3a96471182dc"
      },
      "source": [
        "# Load Data\n",
        "# The first two columns contains the X values and the third column\n",
        "# contains the label (y).\n",
        "data = np.loadtxt(os.path.join('Data', 'ex2data1.txt'), delimiter=',')\n",
        "data= pd.DataFrame(data)\n",
        "train, validate, test = \\\n",
        "              np.split(data.sample(frac=1, random_state=4), \n",
        "                       [int(.6*len(data)), int(.8*len(data))])\n",
        "Xt, yt = train.iloc[:, 0:2], train.iloc[:, 2]\n",
        "Xcv, ycv = validate.iloc[:, 0:2], validate.iloc[:, 2]\n",
        "Xtest, ytest = test.iloc[:, 0:2], test.iloc[:, 2]\n",
        "             \n",
        "print(Xcv.shape)"
      ],
      "execution_count": 90,
      "outputs": [
        {
          "output_type": "stream",
          "text": [
            "(20, 2)\n"
          ],
          "name": "stdout"
        }
      ]
    },
    {
      "cell_type": "markdown",
      "metadata": {
        "id": "QpZQvBWspEem"
      },
      "source": [
        "### 2.1 Visualize the data\n",
        "\n",
        "Similar to the previous parts of this exercise, `plotData` is used to generate a figure, where the axes are the two test scores, and the positive (y = 1, accepted) and negative (y = 0, rejected) examples are shown with\n",
        "different markers."
      ]
    },
    {
      "cell_type": "code",
      "metadata": {
        "id": "J61R-hXFpEem",
        "colab": {
          "base_uri": "https://localhost:8080/",
          "height": 280
        },
        "outputId": "f1ad0180-687f-42f2-fca1-63522427fe7d"
      },
      "source": [
        "plotData(Xt, yt)\n",
        "# Labels and Legend\n",
        "pyplot.xlabel('exam Test 1')\n",
        "pyplot.ylabel('exam Test 2')\n",
        "\n",
        "# Specified in plot order\n",
        "pyplot.legend(['y = admitted', 'y = not admitted'], loc='lower left')\n",
        "pass"
      ],
      "execution_count": 91,
      "outputs": [
        {
          "output_type": "display_data",
          "data": {
            "image/png": "[encoded data removed]",
            "text/plain": [
              "<Figure size 432x288 with 1 Axes>"
            ]
          },
          "metadata": {
            "tags": [],
            "needs_background": "light"
          }
        }
      ]
    },
    {
      "cell_type": "markdown",
      "metadata": {
        "id": "Daa-xZkApEem"
      },
      "source": [
        "The above figure shows that our dataset cannot be separated into positive and negative examples by a straight-line through the plot. Therefore, a straight-forward application of logistic regression will not perform well on this dataset since logistic regression will only be able to find a linear decision boundary.\n",
        "\n",
        "### 2.2 Feature mapping\n",
        "\n",
        "One way to fit the data better is to create more features from each data point. In the function `mapFeature` defined in the file `utils.py`, we will map the features into all polynomial terms of $x_1$ and $x_2$ up to the sixth power.\n",
        "\n",
        "$$ \\text{mapFeature}(x) = \\begin{bmatrix} 1 & x_1 & x_2 & x_1^2 & x_1 x_2 & x_2^2 & x_1^3 & \\dots & x_1 x_2^5 & x_2^6 \\end{bmatrix}^T $$\n",
        "\n",
        "As a result of this mapping, our vector of two features (the scores on two QA tests) has been transformed into a 28-dimensional vector. A logistic regression classifier trained on this higher-dimension feature vector will have a more complex decision boundary and will appear nonlinear when drawn in our 2-dimensional plot.\n",
        "While the feature mapping allows us to build a more expressive classifier, it also more susceptible to overfitting. In the next parts of the exercise, you will implement regularized logistic regression to fit the data and also see for yourself how regularization can help combat the overfitting problem.\n"
      ]
    },
    {
      "cell_type": "code",
      "metadata": {
        "id": "ryZSRw4h1QHY"
      },
      "source": [
        "def mapFeature(X1, X2, degree=6):\n",
        "    \"\"\"\n",
        "    Maps the two input features to quadratic features used in the regularization exercise.\n",
        "\n",
        "    Returns a new feature array with more features, comprising of\n",
        "    X1, X2, X1.^2, X2.^2, X1*X2, X1*X2.^2, etc..\n",
        "\n",
        "    Parameters\n",
        "    ----------\n",
        "    X1 : array_like\n",
        "        A vector of shape (m, 1), containing one feature for all examples.\n",
        "\n",
        "    X2 : array_like\n",
        "        A vector of shape (m, 1), containing a second feature for all examples.\n",
        "        Inputs X1, X2 must be the same size.\n",
        "\n",
        "    degree: int, optional\n",
        "        The polynomial degree.\n",
        "\n",
        "    Returns\n",
        "    -------\n",
        "    : array_like\n",
        "        A matrix of of m rows, and columns depend on the degree of polynomial.\n",
        "    \"\"\"\n",
        "    if X1.ndim > 0:\n",
        "        out = [np.ones(X1.shape[0])]\n",
        "    else:\n",
        "        out = [np.ones(1)]\n",
        "\n",
        "    for i in range(1, degree + 1):\n",
        "        for j in range(i + 1):\n",
        "            out.append((X1 * (i - j)) * (X2 * j))\n",
        "\n",
        "    if X1.ndim > 0:\n",
        "        return np.stack(out, axis=1)\n",
        "    else:\n",
        "        return np.array(out)"
      ],
      "execution_count": 92,
      "outputs": []
    },
    {
      "cell_type": "code",
      "metadata": {
        "id": "wUrYY6UfpEen",
        "colab": {
          "base_uri": "https://localhost:8080/"
        },
        "outputId": "3fc4fb02-20e2-4abb-e1f8-25ec2b70cc61"
      },
      "source": [
        "# Note that mapFeature also adds a column of ones for us, so the intercept\n",
        "# term is handled\n",
        "#Xt = mapFeature(Xt.iloc[:, 0], Xt.iloc[:, 1])\n",
        "#Xcv = mapFeature(Xcv.iloc[:, 0], Xcv.iloc[:, 1])\n",
        "#Xtest = mapFeature(Xtest.iloc[:, 0], Xtest.iloc[:, 1])\n",
        "#print(Xt.shape)\n",
        "mt, nt = Xt.shape\n",
        "mcv, ncv = Xcv.shape\n",
        "mtest, ntest = Xtest.shape\n",
        "\n",
        "# Add intercept term to X\n",
        "Xt = np.concatenate([np.ones((mt, 1)), Xt], axis=1)\n",
        "Xcv = np.concatenate([np.ones((mcv, 1)), Xcv], axis=1)\n",
        "Xtest = np.concatenate([np.ones((mtest, 1)), Xtest], axis=1)\n",
        "print(Xt.shape)\n",
        "print(Xcv.shape)\n",
        "print(Xtest.shape)"
      ],
      "execution_count": 93,
      "outputs": [
        {
          "output_type": "stream",
          "text": [
            "(60, 3)\n",
            "(20, 3)\n",
            "(20, 3)\n"
          ],
          "name": "stdout"
        }
      ]
    },
    {
      "cell_type": "markdown",
      "metadata": {
        "id": "D7qeqEc2pEen"
      },
      "source": [
        "<a id=\"section5\"></a>\n",
        "### 2.3 Cost function and gradient\n",
        "\n",
        "Now you will implement code to compute the cost function and gradient for regularized logistic regression. Complete the code for the function `costFunctionReg` below to return the cost and gradient.\n",
        "\n",
        "Recall that the regularized cost function in logistic regression is\n",
        "\n",
        "$$ J(\\theta) = \\frac{1}{m} \\sum_{i=1}^m \\left[ -y^{(i)}\\log \\left( h_\\theta \\left(x^{(i)} \\right) \\right) - \\left( 1 - y^{(i)} \\right) \\log \\left( 1 - h_\\theta \\left( x^{(i)} \\right) \\right) \\right] + \\frac{\\lambda}{2m} \\sum_{j=1}^n \\theta_j^2 $$\n",
        "\n",
        "Note that you should not regularize the parameters $\\theta_0$. The gradient of the cost function is a vector where the $j^{th}$ element is defined as follows:\n",
        "\n",
        "$$ \\frac{\\partial J(\\theta)}{\\partial \\theta_0} = \\frac{1}{m} \\sum_{i=1}^m \\left( h_\\theta \\left(x^{(i)}\\right) - y^{(i)} \\right) x_j^{(i)} \\qquad \\text{for } j =0 $$\n",
        "\n",
        "$$ \\frac{\\partial J(\\theta)}{\\partial \\theta_j} = \\left( \\frac{1}{m} \\sum_{i=1}^m \\left( h_\\theta \\left(x^{(i)}\\right) - y^{(i)} \\right) x_j^{(i)} \\right) + \\frac{\\lambda}{m}\\theta_j \\qquad \\text{for } j \\ge 1 $$\n",
        "<a id=\"costFunctionReg\"></a>"
      ]
    },
    {
      "cell_type": "code",
      "metadata": {
        "id": "d2reP_4KpEen"
      },
      "source": [
        "def costFunctionReg(theta, X, y, lambda_):\n",
        "    \"\"\"\n",
        "    Compute cost and gradient for logistic regression with regularization.\n",
        "    \n",
        "    Parameters\n",
        "    ----------\n",
        "    theta : array_like\n",
        "        Logistic regression parameters. A vector with shape (n, ). n is \n",
        "        the number of features including any intercept. If we have mapped\n",
        "        our initial features into polynomial features, then n is the total \n",
        "        number of polynomial features. \n",
        "    \n",
        "    X : array_like\n",
        "        The data set with shape (m x n). m is the number of examples, and\n",
        "        n is the number of features (after feature mapping).\n",
        "    \n",
        "    y : array_like\n",
        "        The data labels. A vector with shape (m, ).\n",
        "    \n",
        "    lambda_ : float\n",
        "        The regularization parameter. \n",
        "    \n",
        "    Returns\n",
        "    -------\n",
        "    J : float\n",
        "        The computed value for the regularized cost function. \n",
        "    \n",
        "    grad : array_like\n",
        "        A vector of shape (n, ) which is the gradient of the cost\n",
        "        function with respect to theta, at the current values of theta.\n",
        "    \n",
        "    Instructions\n",
        "    ------------\n",
        "    Compute the cost `J` of a particular choice of theta.\n",
        "    Compute the partial derivatives and set `grad` to the partial\n",
        "    derivatives of the cost w.r.t. each parameter in theta.\n",
        "    \"\"\"\n",
        "    # Initialize some useful values\n",
        "    m = y.size  # number of training examples\n",
        "\n",
        "    # You need to return the following variables correctly \n",
        "    J = 0\n",
        "    grad = np.zeros(theta.shape)\n",
        "    \n",
        "    # ===================== YOUR CODE HERE ======================\n",
        "    h = sigmoid(X.dot(theta.T))\n",
        "    \n",
        "    temp = theta\n",
        "    temp[0] = 0\n",
        "    \n",
        "    J = (1 / m) * np.sum(-y.dot(np.log(h)) - (1 - y).dot(np.log(1 - h))) + (lambda_ / (2 * m)) * np.sum(np.square(temp))\n",
        "    \n",
        "    grad = (1 / m) * (h - y).dot(X) \n",
        "    grad = grad + (lambda_ / m) * temp\n",
        "    # =============================================================\n",
        "    return J, grad"
      ],
      "execution_count": 94,
      "outputs": []
    },
    {
      "cell_type": "code",
      "metadata": {
        "id": "bkHapk64pEep",
        "colab": {
          "base_uri": "https://localhost:8080/"
        },
        "outputId": "b9772d20-a420-4b1a-fb01-f4eaa4a2ce0b"
      },
      "source": [
        "# Initialize fitting parameters\n",
        "initial_theta = np.zeros(3)\n",
        "# Set regularization parameter lambda to 1 (you should vary this)\n",
        "lambda_ = [0,0.01,0.02,0.04,0.08,0.16,0.32,0.64,1.28,2.56,5.12,10.24]\n",
        "r=len(lambda_)\n",
        "rows, cols = (r,3)\n",
        "train_thetas = [[0]*cols]*r\n",
        "print(train_thetas)\n",
        "\n",
        "options= {'maxiter': 400}\n",
        "for i in range (r):\n",
        "\n",
        "# set options for optimize.minimize\n",
        "     \n",
        "    res = optimize.minimize(costFunctionReg,\n",
        "                           initial_theta,\n",
        "                           (Xt, yt, lambda_[i]),\n",
        "                           jac=True,\n",
        "                           method='TNC',\n",
        "                           options=options)\n",
        "\n",
        "# the fun property of OptimizeResult object returns\n",
        "# the value of costFunction at optimized theta\n",
        "    cost = res.fun\n",
        "    \n",
        "\n",
        "# the optimized theta is in the x property of the result\n",
        "    theta = res.x\n",
        "    print(\"lambdas\",lambda_[i])\n",
        "    train_thetas[i][:]=theta\n",
        "print(\"train thetas\",train_thetas)\n",
        "\n",
        "#i=0\n",
        "#while i < 8:\n",
        " \n",
        " #plotDecisionBoundary(plotData, train_thetas[i][:], Xt, yt)\n",
        " #pyplot.xlabel('exam Test 1')\n",
        " #pyplot.ylabel('exam Test 2')\n",
        " #pyplot.legend(['y = 1', 'y = 0'],loc='upper right')\n",
        " #pyplot.grid(False)\n",
        " #pyplot.title('lambda = %0.2f' % lambda_[i])\n",
        " #i=i+1"
      ],
      "execution_count": 95,
      "outputs": [
        {
          "output_type": "stream",
          "text": [
            "[[0, 0, 0], [0, 0, 0], [0, 0, 0], [0, 0, 0], [0, 0, 0], [0, 0, 0], [0, 0, 0], [0, 0, 0], [0, 0, 0], [0, 0, 0], [0, 0, 0], [0, 0, 0]]\n",
            "lambdas 0\n",
            "lambdas 0.01\n",
            "lambdas 0.02\n",
            "lambdas 0.04\n",
            "lambdas 0.08\n",
            "lambdas 0.16\n",
            "lambdas 0.32\n",
            "lambdas 0.64\n",
            "lambdas 1.28\n",
            "lambdas 2.56\n",
            "lambdas 5.12\n",
            "lambdas 10.24\n",
            "train thetas [[0.0, 0.03739844040946458, 0.05170569738460698], [0.0, 0.03739844040946458, 0.05170569738460698], [0.0, 0.03739844040946458, 0.05170569738460698], [0.0, 0.03739844040946458, 0.05170569738460698], [0.0, 0.03739844040946458, 0.05170569738460698], [0.0, 0.03739844040946458, 0.05170569738460698], [0.0, 0.03739844040946458, 0.05170569738460698], [0.0, 0.03739844040946458, 0.05170569738460698], [0.0, 0.03739844040946458, 0.05170569738460698], [0.0, 0.03739844040946458, 0.05170569738460698], [0.0, 0.03739844040946458, 0.05170569738460698], [0.0, 0.03739844040946458, 0.05170569738460698]]\n"
          ],
          "name": "stdout"
        }
      ]
    },
    {
      "cell_type": "code",
      "metadata": {
        "id": "yTiXFTwqx8Uf",
        "colab": {
          "base_uri": "https://localhost:8080/"
        },
        "outputId": "1f700e08-0f23-41dc-9891-fb6b9ab8afcf"
      },
      "source": [
        "# use the CV to validate min cost of thetas\n",
        "rowscv, colscv = (r,3)\n",
        "cost_regcv = np.zeros(r)\n",
        "cv_thetas = [[0]*cols]*r\n",
        "#cv_thetas2 = [[0]*cols]*r\n",
        "for i in range (r):\n",
        "   #cost, grad = costFunctionReg(np.array(train_thetas[i][:]), Xcv, ycv, 0)\n",
        "   #cv_thetas2[i][:] = grad\n",
        "\n",
        "   res = optimize.minimize(costFunctionReg,\n",
        "                           initial_theta,\n",
        "                           (Xcv, ycv, 0),\n",
        "                           jac=True,\n",
        "                           method='TNC',\n",
        "                           options=options)\n",
        "\n",
        "# the fun property of OptimizeResult object returns\n",
        "# the value of costFunction at optimized theta\n",
        "   cost = res.fun\n",
        "    \n",
        "\n",
        "# the optimized theta is in the x property of the result\n",
        "   theta = res.x\n",
        "   cv_thetas[i][:]= theta\n",
        "print(cv_thetas)\n",
        "#print(cv_thetas2)\n"
      ],
      "execution_count": 96,
      "outputs": [
        {
          "output_type": "stream",
          "text": [
            "[[0.0, 0.06281109769068378, 0.01897063372304518], [0.0, 0.06281109769068378, 0.01897063372304518], [0.0, 0.06281109769068378, 0.01897063372304518], [0.0, 0.06281109769068378, 0.01897063372304518], [0.0, 0.06281109769068378, 0.01897063372304518], [0.0, 0.06281109769068378, 0.01897063372304518], [0.0, 0.06281109769068378, 0.01897063372304518], [0.0, 0.06281109769068378, 0.01897063372304518], [0.0, 0.06281109769068378, 0.01897063372304518], [0.0, 0.06281109769068378, 0.01897063372304518], [0.0, 0.06281109769068378, 0.01897063372304518], [0.0, 0.06281109769068378, 0.01897063372304518]]\n"
          ],
          "name": "stdout"
        }
      ]
    },
    {
      "cell_type": "code",
      "metadata": {
        "id": "YmGnE2wqx8lC",
        "colab": {
          "base_uri": "https://localhost:8080/"
        },
        "outputId": "621d9cd3-e82c-45be-fe59-25432de2db80"
      },
      "source": [
        "# Compute accuracy on our training set\n",
        "p = predict(np.array(cv_thetas[1][:]), Xtest)\n",
        "\n",
        "print('Train Accuracy: %.1f %%' % (np.mean(p == ytest) * 100))\n",
        "print('Expected accuracy (with lambda = 1): 83.1 % (approx)\\n')"
      ],
      "execution_count": 97,
      "outputs": [
        {
          "output_type": "stream",
          "text": [
            "Train Accuracy: 60.0 %\n",
            "Expected accuracy (with lambda = 1): 83.1 % (approx)\n",
            "\n"
          ],
          "name": "stdout"
        }
      ]
    }
  ]
}